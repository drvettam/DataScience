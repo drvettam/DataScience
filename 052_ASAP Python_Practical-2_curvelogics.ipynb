{
 "cells": [
  {
   "cell_type": "markdown",
   "metadata": {
    "id": "oPrmNkQ-Hx4M"
   },
   "source": [
    "# Python Practicals\n",
    "**Short Link**: https://bit.ly/DSAPP012022ASAP<br>\n",
    "**Copyright**: [Curvelogics Pvt Ltd](https://curvelogics.com)<br>\n",
    "![image.png](data:image/png;base64,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)"
   ]
  },
  {
   "cell_type": "markdown",
   "metadata": {
    "id": "BACAsKtO-g6y"
   },
   "source": [
    " 1.Write a program that uses input to prompt a user for their name and then welcomes them."
   ]
  },
  {
   "cell_type": "code",
   "execution_count": 1,
   "metadata": {
    "id": "OINwP0jZzQZ_"
   },
   "outputs": [
    {
     "name": "stdout",
     "output_type": "stream",
     "text": [
      "Enter your NameGeorge\n",
      "Welcome George\n"
     ]
    }
   ],
   "source": [
    "# Please provide your answer below this line\n",
    "name=input(\"Enter your Name\")\n",
    "print(\"Welcome\",name)\n"
   ]
  },
  {
   "cell_type": "markdown",
   "metadata": {
    "id": "FLH5ggSz-oNd"
   },
   "source": [
    " 2.Write a program to prompt the user for hours and rate per hour to compute gross pay.(grosspay=rate*hour)"
   ]
  },
  {
   "cell_type": "code",
   "execution_count": 3,
   "metadata": {
    "id": "2fiherQdzPyk"
   },
   "outputs": [
    {
     "name": "stdout",
     "output_type": "stream",
     "text": [
      "Enter Hours worked45\n",
      "Enter rate per Hour5\n",
      "Gross Pay= 225\n"
     ]
    }
   ],
   "source": [
    "# Please provide your answer below this line\n",
    "hour=int(input(\"Enter Hours worked\"))\n",
    "rate=int(input(\"Enter rate per Hour\"))\n",
    "grosspay=rate*hour\n",
    "print(\"Gross Pay=\",grosspay)"
   ]
  },
  {
   "cell_type": "markdown",
   "metadata": {
    "id": "BArixI_K_XrC"
   },
   "source": [
    " 3.Write a program which prompts the user for a Celsius temperature, convert the temperature to Fahrenheit, and print out the converted temperature."
   ]
  },
  {
   "cell_type": "code",
   "execution_count": 4,
   "metadata": {
    "id": "-nwFoHgOzPBt"
   },
   "outputs": [
    {
     "name": "stdout",
     "output_type": "stream",
     "text": [
      "Enter Temperature in Celsius:30\n",
      "Temperature in Fahrenheit= 86.0\n"
     ]
    }
   ],
   "source": [
    "# Please provide your answer below this line\n",
    "c=int(input(\"Enter Temperature in Celsius:\"))\n",
    "f=c*9/5+32\n",
    "print(\"Temperature in Fahrenheit=\",f)"
   ]
  },
  {
   "cell_type": "markdown",
   "metadata": {
    "id": "8qr6aawnCo73"
   },
   "source": [
    "4.Write code using find() and string slicing to extract the number at the end of the line below.Convert the extracted value to a floating point number and print it out.\n",
    "\"Balance : 23540\""
   ]
  },
  {
   "cell_type": "code",
   "execution_count": 10,
   "metadata": {},
   "outputs": [
    {
     "name": "stdout",
     "output_type": "stream",
     "text": [
      "Find numbers from string: 264788\n"
     ]
    }
   ],
   "source": [
    "new_string = \"Germany26China47Australia88\"\n",
    " \n",
    "emp_str = \"\"\n",
    "for m in new_string:\n",
    "    if m.isdigit():\n",
    "        emp_str = emp_str + m\n",
    "print(\"Find numbers from string:\",emp_str) "
   ]
  },
  {
   "cell_type": "code",
   "execution_count": 12,
   "metadata": {},
   "outputs": [
    {
     "name": "stdout",
     "output_type": "stream",
     "text": [
      "23540.0\n"
     ]
    }
   ],
   "source": [
    "sent=\"Balance : 23540\"\n",
    "emp_str = \"\"\n",
    "for m in sent:\n",
    "    if m.isdigit():\n",
    "        emp_str = emp_str + m\n",
    "balance=emp_str\n",
    "print(float(balance))"
   ]
  },
  {
   "cell_type": "code",
   "execution_count": 13,
   "metadata": {
    "id": "-TuoztFYzL7N"
   },
   "outputs": [
    {
     "name": "stdout",
     "output_type": "stream",
     "text": [
      "23540.0\n"
     ]
    }
   ],
   "source": [
    "# Please provide your answer below this line\n",
    "sent=\"Balance : 23540\"\n",
    "n=sent.find(\"2\")\n",
    "#sent.split(\" \")\n",
    "balance=sent[n:]\n",
    "print(float(balance))"
   ]
  },
  {
   "cell_type": "markdown",
   "metadata": {
    "id": "QTnhGvCJK2Wo"
   },
   "source": [
    " 5.Write a function to prompt for a score between 0.0 and 1.0.\n",
    " - If the score is out of range, print an error.\n",
    " -  If the score is between 0.0 and 1.0, print a grade using the following table:\n",
    " -  Score Grade\n",
    "\n",
    "| Score     | Grade | \n",
    "| :---:     |    :----:   |  \n",
    "|>= 0.9|A| \n",
    "|>= 0.8|B|\n",
    "|>= 0.7|C|\n",
    "|>= 0.6|D|\n",
    "|< 0.6 |F|\n",
    "\n",
    "If the user enters a value out of range, print a suitable error message and exit.\n",
    "For the test, enter a score of 0.85."
   ]
  },
  {
   "cell_type": "code",
   "execution_count": 17,
   "metadata": {
    "id": "vgJQf3pF6hbd"
   },
   "outputs": [
    {
     "name": "stdout",
     "output_type": "stream",
     "text": [
      "Enter your score (0-1)-3\n"
     ]
    },
    {
     "data": {
      "text/plain": [
       "'Number less than 0'"
      ]
     },
     "execution_count": 17,
     "metadata": {},
     "output_type": "execute_result"
    }
   ],
   "source": [
    "# Please provide your answer below this line.\n",
    "def grade(g):\n",
    "    if g>1:\n",
    "        error=\"Number Greater than 1\"\n",
    "        return error\n",
    "    elif g<0:\n",
    "        error=\"Number less than 0\"\n",
    "        return error\n",
    "    if g>=.9:\n",
    "        return \"Grade A\"\n",
    "    elif g>=.8:\n",
    "        return \"Grade B\"\n",
    "    elif g>=.7:\n",
    "        return \"Grade C\"\n",
    "    elif g>=.6:\n",
    "        return \"Grade D\"\n",
    "    else:\n",
    "        return \"Grade F\"\n",
    "score=float(input(\"Enter your score (0-1)\"))        \n",
    "grade(score)"
   ]
  },
  {
   "cell_type": "markdown",
   "metadata": {
    "id": "lLJ3_JzrLc49"
   },
   "source": [
    "6.Write a program to prompt the user for hours and rate per hour using input to compute gross pay.\n",
    " \n",
    " - Award time-and-a-half for the hourly rate for all hours worked above 40 hours. 40 * r + (h-40)*1.5*r\n",
    " - Put the logic to do the computation of time-and-a-half in a function called computepay().\n",
    " - and use the function to do the computation.\n",
    " - The function should return a value.\n",
    " - Use 45 hours and a rate of 10.50 per hour to test the program (the pay should be 498.75).\n",
    " - You should use input to read a string and float() to convert the string to a number.\n"
   ]
  },
  {
   "cell_type": "code",
   "execution_count": 21,
   "metadata": {
    "id": "b5MYr5yZ4con"
   },
   "outputs": [
    {
     "name": "stdout",
     "output_type": "stream",
     "text": [
      "Enter Hours worked:45\n",
      "Enter rate per Hour:10.5\n",
      "Gross Pay= 498.75\n"
     ]
    }
   ],
   "source": [
    "# Please provide your answer below this line\n",
    "# Please provide your answer below this line\n",
    "def computepay(hrs,rate):   \n",
    "    if hrs>40:\n",
    "        grosspay=40*rate+(hrs-40)*rate*1.5\n",
    "    else:\n",
    "        grosspay=hrs*rate\n",
    "    return grosspay\n",
    "h=float(input(\"Enter Hours worked:\"))\n",
    "r=float(input(\"Enter rate per Hour:\"))\n",
    "print(\"Gross Pay=\",computepay(h,r))"
   ]
  },
  {
   "cell_type": "markdown",
   "metadata": {
    "id": "eUI0XnkzNQ4w"
   },
   "source": [
    "7.Write a program that repeatedly prompts a user for integer numbers until the user enters 'done'.\n",
    " - Once 'done' is entered, print out the largest and smallest of the numbers.\n",
    " - If the user enters anything other than a valid number catch it with a try/except.\n",
    " - and put out an appropriate message and ignore the number.\n",
    " - Enter 7, 2, bob, 10, and 4 and match the output below.\n"
   ]
  },
  {
   "cell_type": "code",
   "execution_count": 4,
   "metadata": {
    "id": "zZl5A2N56ypp"
   },
   "outputs": [
    {
     "name": "stdout",
     "output_type": "stream",
     "text": [
      "Please enter a number: 7\n",
      "Please enter a number: 2\n",
      "Please enter a number: bob\n",
      "Oops!  That was no valid number.  Try again...\n",
      "Please enter a number: 10\n",
      "Please enter a number: 4\n",
      "Please enter a number: done\n",
      "Largest = 10 Smallest= 2\n"
     ]
    }
   ],
   "source": [
    "# Please provide your answer below this line\n",
    "\n",
    "l=-9999\n",
    "s=9999\n",
    "while True:\n",
    "    try:\n",
    "        x = input(\"Please enter a number: \")\n",
    "        if x=='done':\n",
    "            break\n",
    "        n=int(x)\n",
    "        if n>l:\n",
    "            l=n\n",
    "        if n<s:\n",
    "            s=n       \n",
    "    except ValueError:\n",
    "        print(\"Oops!  That was no valid number.  Try again...\")\n",
    "print(\"Largest =\",l,\"Smallest=\",s)"
   ]
  },
  {
   "cell_type": "code",
   "execution_count": null,
   "metadata": {},
   "outputs": [],
   "source": []
  },
  {
   "cell_type": "code",
   "execution_count": null,
   "metadata": {},
   "outputs": [],
   "source": []
  }
 ],
 "metadata": {
  "colab": {
   "provenance": [
    {
     "file_id": "1jGCli3oQuCexbFdxZqJ7XYHDPWy2CCJI",
     "timestamp": 1642673922161
    }
   ]
  },
  "kernelspec": {
   "display_name": "Python 3 (ipykernel)",
   "language": "python",
   "name": "python3"
  },
  "language_info": {
   "codemirror_mode": {
    "name": "ipython",
    "version": 3
   },
   "file_extension": ".py",
   "mimetype": "text/x-python",
   "name": "python",
   "nbconvert_exporter": "python",
   "pygments_lexer": "ipython3",
   "version": "3.11.4"
  }
 },
 "nbformat": 4,
 "nbformat_minor": 1
}

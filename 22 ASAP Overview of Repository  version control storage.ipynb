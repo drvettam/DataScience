{
 "cells": [
  {
   "cell_type": "markdown",
   "id": "cc6c106d",
   "metadata": {},
   "source": [
    "## Overview of Repository / version control storage"
   ]
  },
  {
   "cell_type": "markdown",
   "id": "7a89ec96",
   "metadata": {},
   "source": [
    "### Git: Git is a Distributed version contrl system (DVSCS)"
   ]
  },
  {
   "cell_type": "code",
   "execution_count": null,
   "id": "b1feba53",
   "metadata": {},
   "outputs": [],
   "source": [
    "A Versionaa acontrl system"
   ]
  },
  {
   "cell_type": "code",
   "execution_count": 1,
   "id": "090af561",
   "metadata": {},
   "outputs": [
    {
     "name": "stdout",
     "output_type": "stream",
     "text": [
      "datetime: 2023-03-01T06:21:24.486540+00:00\n"
     ]
    }
   ],
   "source": [
    "from urllib.request import urlopen \n",
    "with urlopen('http://worldtimeapi.org/api/timezone/etc/UTC.txt') as response:\n",
    "    for line in response:\n",
    "        line = line.decode() # Convert bytes to a str \n",
    "        if line.startswith('datetime'): \n",
    "            print(line.rstrip()) # Remove trailing newline"
   ]
  },
  {
   "cell_type": "code",
   "execution_count": null,
   "id": "bf9fedb1",
   "metadata": {},
   "outputs": [],
   "source": []
  }
 ],
 "metadata": {
  "kernelspec": {
   "display_name": "Python 3 (ipykernel)",
   "language": "python",
   "name": "python3"
  },
  "language_info": {
   "codemirror_mode": {
    "name": "ipython",
    "version": 3
   },
   "file_extension": ".py",
   "mimetype": "text/x-python",
   "name": "python",
   "nbconvert_exporter": "python",
   "pygments_lexer": "ipython3",
   "version": "3.11.4"
  }
 },
 "nbformat": 4,
 "nbformat_minor": 5
}
